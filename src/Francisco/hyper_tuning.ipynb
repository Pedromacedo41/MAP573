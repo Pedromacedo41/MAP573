{
 "cells": [
  {
   "cell_type": "markdown",
   "metadata": {},
   "source": [
    "## Hyperparameter tuning"
   ]
  },
  {
   "cell_type": "code",
   "execution_count": null,
   "metadata": {},
   "outputs": [],
   "source": [
    "import talos\n",
    "\n",
    "def model_talos(train_X, train_Y, val_X, val_Y, params):\n",
    "    vanilla_rnn = Sequential()\n",
    "    \n",
    "    for i in range(max(params['layers']-1, 0)):\n",
    "        vanilla_rnn.add(LSTM(params['first_lstm'], return_sequences=True))\n",
    "\n",
    "    vanilla_rnn.add(LSTM(params['first_lstm'],input_shape = (1, params['window_size']), activation='tanh', \n",
    "                         recurrent_activation='sigmoid', use_bias=True, kernel_initializer='glorot_uniform', \n",
    "                         recurrent_initializer='orthogonal', bias_initializer='zeros'))\n",
    "    \n",
    "    vanilla_rnn.add(Dense(1, activation=None, use_bias=True, kernel_initializer='glorot_uniform', bias_initializer='zeros'))\n",
    "    \n",
    "    vanilla_rnn.compile(params['optimizer'], loss=params['loss'])\n",
    "    \n",
    "    history = vanilla_rnn.fit(train_X, train_Y, epochs = params['epochs'], batch_size = params['batch_size'], \n",
    "                              verbose = 0,  validation_data=[val_X, val_Y])\n",
    "    \n",
    "    return history, vanilla_rnn\n",
    "\n"
   ]
  },
  {
   "cell_type": "code",
   "execution_count": null,
   "metadata": {},
   "outputs": [],
   "source": [
    "p = {'optimizer': ['adam', 'sgd', 'rmsprop'],\n",
    "     'loss': ['mse'],\n",
    "     'batch_size': [32, 128, 1024],\n",
    "     'epochs': [5, 10, 20],\n",
    "     'layers' : [1, 2],\n",
    "     'first_lstm' : [4, 8, 16, 32],\n",
    "     'window_size' : [1, 24, 24*7]}\n",
    "\n",
    "scan_object = talos.Scan(train_X, train_Y, model=model_talos, params=p, fraction_limit=0.2, val_split=0.15, experiment_name='1')\n"
   ]
  },
  {
   "cell_type": "code",
   "execution_count": null,
   "metadata": {},
   "outputs": [],
   "source": [
    "# accessing the results data frame\n",
    "scan_object.data.head()\n",
    "\n",
    "# accessing epoch entropy values for each round\n",
    "scan_object.learning_entropy\n",
    "\n",
    "# access the summary details\n",
    "scan_object.details\n",
    "\n",
    "# use Scan object as input\n",
    "analyze_object = talos.Analyze(scan_object)\n",
    "\n",
    "# access the dataframe with the results\n",
    "analyze_object.data\n",
    "\n",
    "# four dimensional bar grid\n",
    "analyze_object.plot_bars('layers', 'val_loss', 'window_size', 'optimizer')\n",
    "\n",
    "# four dimensional bar grid\n",
    "analyze_object.plot_bars('batch_size', 'val_loss', 'first_lstm', 'epochs')\n",
    "\n",
    "# heatmap correlation\n",
    "analyze_object.plot_corr('val_loss', [])"
   ]
  }
 ],
 "metadata": {
  "kernelspec": {
   "display_name": "Python 3",
   "language": "python",
   "name": "python3"
  },
  "language_info": {
   "codemirror_mode": {
    "name": "ipython",
    "version": 3
   },
   "file_extension": ".py",
   "mimetype": "text/x-python",
   "name": "python",
   "nbconvert_exporter": "python",
   "pygments_lexer": "ipython3",
   "version": "3.7.4"
  }
 },
 "nbformat": 4,
 "nbformat_minor": 2
}
