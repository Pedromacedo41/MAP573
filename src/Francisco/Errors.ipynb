{
 "cells": [
  {
   "cell_type": "code",
   "execution_count": 5,
   "metadata": {},
   "outputs": [],
   "source": [
    "import numpy as np\n",
    "import pandas as pd\n",
    "import matplotlib.pyplot as plt\n",
    "from tqdm import tqdm\n",
    "from IPython.display import SVG\n",
    "from keras.utils.vis_utils import model_to_dot\n",
    "import math\n",
    "from keras.layers.core import Dense, Activation, Dropout\n",
    "from keras.layers.recurrent import LSTM\n",
    "from keras.models import Sequential\n",
    "from keras.models import load_model\n",
    "from sklearn.metrics import mean_squared_error, mean_absolute_error\n",
    "from sklearn.preprocessing import MinMaxScaler\n",
    "from sklearn.utils import shuffle\n",
    "from keras import callbacks\n",
    "import pickle\n"
   ]
  },
  {
   "cell_type": "code",
   "execution_count": 7,
   "metadata": {},
   "outputs": [
    {
     "data": {
      "text/html": [
       "<div>\n",
       "<style scoped>\n",
       "    .dataframe tbody tr th:only-of-type {\n",
       "        vertical-align: middle;\n",
       "    }\n",
       "\n",
       "    .dataframe tbody tr th {\n",
       "        vertical-align: top;\n",
       "    }\n",
       "\n",
       "    .dataframe thead th {\n",
       "        text-align: right;\n",
       "    }\n",
       "</style>\n",
       "<table border=\"1\" class=\"dataframe\">\n",
       "  <thead>\n",
       "    <tr style=\"text-align: right;\">\n",
       "      <th></th>\n",
       "      <th></th>\n",
       "      <th></th>\n",
       "      <th></th>\n",
       "      <th>1</th>\n",
       "      <th>2</th>\n",
       "      <th>3</th>\n",
       "      <th>4</th>\n",
       "      <th>5</th>\n",
       "      <th>6</th>\n",
       "      <th>7</th>\n",
       "      <th>8</th>\n",
       "      <th>9</th>\n",
       "      <th>10</th>\n",
       "      <th>11</th>\n",
       "      <th>12</th>\n",
       "      <th>13</th>\n",
       "      <th>14</th>\n",
       "      <th>15</th>\n",
       "      <th>16</th>\n",
       "      <th>17</th>\n",
       "      <th>18</th>\n",
       "      <th>19</th>\n",
       "      <th>20</th>\n",
       "    </tr>\n",
       "  </thead>\n",
       "  <tbody>\n",
       "    <tr>\n",
       "      <td rowspan=\"2\" valign=\"top\">2004</td>\n",
       "      <td rowspan=\"2\" valign=\"top\">1</td>\n",
       "      <td rowspan=\"2\" valign=\"top\">1</td>\n",
       "      <td>1</td>\n",
       "      <td>16853.0</td>\n",
       "      <td>126259.0</td>\n",
       "      <td>136233.0</td>\n",
       "      <td>484.0</td>\n",
       "      <td>6829.0</td>\n",
       "      <td>133088.0</td>\n",
       "      <td>136233.0</td>\n",
       "      <td>3124.0</td>\n",
       "      <td>75243.0</td>\n",
       "      <td>23339.0</td>\n",
       "      <td>90700.0</td>\n",
       "      <td>118378.0</td>\n",
       "      <td>20673.0</td>\n",
       "      <td>21791.0</td>\n",
       "      <td>65970.0</td>\n",
       "      <td>28752.0</td>\n",
       "      <td>30645.0</td>\n",
       "      <td>200946.0</td>\n",
       "      <td>82298.0</td>\n",
       "      <td>79830.0</td>\n",
       "    </tr>\n",
       "    <tr>\n",
       "      <td>2</td>\n",
       "      <td>16450.0</td>\n",
       "      <td>123313.0</td>\n",
       "      <td>133055.0</td>\n",
       "      <td>457.0</td>\n",
       "      <td>6596.0</td>\n",
       "      <td>129909.0</td>\n",
       "      <td>133055.0</td>\n",
       "      <td>2956.0</td>\n",
       "      <td>67368.0</td>\n",
       "      <td>22100.0</td>\n",
       "      <td>86699.0</td>\n",
       "      <td>112480.0</td>\n",
       "      <td>19666.0</td>\n",
       "      <td>21400.0</td>\n",
       "      <td>64600.0</td>\n",
       "      <td>27851.0</td>\n",
       "      <td>30461.0</td>\n",
       "      <td>195835.0</td>\n",
       "      <td>79827.0</td>\n",
       "      <td>77429.0</td>\n",
       "    </tr>\n",
       "  </tbody>\n",
       "</table>\n",
       "</div>"
      ],
      "text/plain": [
       "                 1         2         3      4       5         6         7   \\\n",
       "2004 1 1 1  16853.0  126259.0  136233.0  484.0  6829.0  133088.0  136233.0   \n",
       "         2  16450.0  123313.0  133055.0  457.0  6596.0  129909.0  133055.0   \n",
       "\n",
       "                8        9        10       11        12       13       14  \\\n",
       "2004 1 1 1  3124.0  75243.0  23339.0  90700.0  118378.0  20673.0  21791.0   \n",
       "         2  2956.0  67368.0  22100.0  86699.0  112480.0  19666.0  21400.0   \n",
       "\n",
       "                 15       16       17        18       19       20  \n",
       "2004 1 1 1  65970.0  28752.0  30645.0  200946.0  82298.0  79830.0  \n",
       "         2  64600.0  27851.0  30461.0  195835.0  79827.0  77429.0  "
      ]
     },
     "execution_count": 7,
     "metadata": {},
     "output_type": "execute_result"
    }
   ],
   "source": [
    "PATH = r\"../../Data/completeLoad.csv\"\n",
    "df = pd.read_csv(PATH)\n",
    "temp = df.set_index(['zone_id', 'year', 'month', 'day'])\n",
    "colname_to_int = {}\n",
    "for i in list(temp.columns):\n",
    "    colname_to_int[i] = int(i[1:])\n",
    "\n",
    "temp = temp.rename(columns=colname_to_int)\n",
    "temp = temp.stack()\n",
    "temp = temp.unstack(level=0)\n",
    "temp.columns.names = [None]\n",
    "temp.index.names = [None, None, None, None]\n",
    "df_zone = temp\n",
    "temp.head(2)"
   ]
  },
  {
   "cell_type": "markdown",
   "metadata": {},
   "source": [
    "## Naive predictors"
   ]
  },
  {
   "cell_type": "code",
   "execution_count": 11,
   "metadata": {},
   "outputs": [
    {
     "name": "stdout",
     "output_type": "stream",
     "text": [
      "(Naive -1 hour) Training data error: 1445.17 MSE\n",
      "(Naive -1 hour) Test data error: 1492.99 MSE\n",
      "(Naive -1 day) Training data error: 3022.64 MSE\n",
      "(Naive -1 day) Test data error: 3284.90 MSE\n",
      "(Naive -1 week) Training data error: 4528.78 MSE\n",
      "(Naive -1 week) Test data error: 5281.74 MSE\n"
     ]
    }
   ],
   "source": [
    "def get_naive_week_predict_and_score_multi(X, Y):\n",
    "    # transform the prediction to the original scale.\n",
    "    pred = normalizer.inverse_transform(np.vstack((Y[0:24*7], Y[0:-24*7])))\n",
    "    # transform also the label to the original scale for interpretability.\n",
    "    orig_data =normalizer.inverse_transform(Y)\n",
    "    # calculate RMSE.\n",
    "    score = math.sqrt(mean_squared_error(orig_data, pred))\n",
    "    return(score, pred)\n",
    "\n",
    "def get_naive_day_predict_and_score_multi(X, Y):\n",
    "    # transform the prediction to the original scale.\n",
    "    pred = normalizer.inverse_transform(np.vstack((Y[0:24], Y[0:-24])))\n",
    "    # transform also the label to the original scale for interpretability.\n",
    "    orig_data =normalizer.inverse_transform(Y)\n",
    "    # calculate RMSE.\n",
    "    score = math.sqrt(mean_squared_error(orig_data, pred))\n",
    "    return(score, pred)\n",
    "\n",
    "def get_naive_hour_predict_and_score_multi(X, Y):\n",
    "    # transform the prediction to the original scale.\n",
    "    pred = normalizer.inverse_transform(np.vstack((Y[0, :].reshape(1, -1), Y[0:-1])))\n",
    "    # transform also the label to the original scale for interpretability.\n",
    "    orig_data =normalizer.inverse_transform(Y)\n",
    "    # calculate RMSE.\n",
    "    score = math.sqrt(mean_squared_error(orig_data, pred))\n",
    "    return(score, pred)\n",
    "\n",
    "mse_train_naive_hour, train_predict_naive_hour = get_naive_hour_predict_and_score_multi(train_X, train_Y)\n",
    "mse_test_naive_hour, test_predict_naive_hour = get_naive_hour_predict_and_score_multi(test_X, test_Y)\n",
    "mse_train_naive_day, train_predict_naive_day = get_naive_day_predict_and_score_multi(train_X, train_Y)\n",
    "mse_test_naive_day, test_predict_naive_day = get_naive_day_predict_and_score_multi(test_X, test_Y)\n",
    "mse_train_naive_week, train_predict_naive_week = get_naive_week_predict_and_score_multi(train_X, train_Y)\n",
    "mse_test_naive_week, test_predict_naive_week = get_naive_week_predict_and_score_multi(test_X, test_Y)\n",
    "\n",
    "print(\"(Naive -1 hour) Training data error: %.2f MSE\" % mse_train_naive_hour)\n",
    "print(\"(Naive -1 hour) Test data error: %.2f MSE\" % mse_test_naive_hour)\n",
    "print(\"(Naive -1 day) Training data error: %.2f MSE\" % mse_train_naive_day)\n",
    "print(\"(Naive -1 day) Test data error: %.2f MSE\" % mse_test_naive_day)\n",
    "print(\"(Naive -1 week) Training data error: %.2f MSE\" % mse_train_naive_week)\n",
    "print(\"(Naive -1 week) Test data error: %.2f MSE\" % mse_test_naive_week)"
   ]
  },
  {
   "cell_type": "code",
   "execution_count": null,
   "metadata": {},
   "outputs": [],
   "source": []
  },
  {
   "cell_type": "code",
   "execution_count": null,
   "metadata": {},
   "outputs": [],
   "source": []
  },
  {
   "cell_type": "markdown",
   "metadata": {},
   "source": [
    "## LSTM "
   ]
  },
  {
   "cell_type": "code",
   "execution_count": 8,
   "metadata": {},
   "outputs": [
    {
     "name": "stdout",
     "output_type": "stream",
     "text": [
      "Number of samples training set: 31660\n",
      "Number of samples test set: 7916\n"
     ]
    }
   ],
   "source": [
    "# use data for zone 1.\n",
    "data = df_zone[1].values.reshape(-1, 1)\n",
    "\n",
    "# normalize data with min max normalization.\n",
    "normalizer = MinMaxScaler(feature_range = (0, 1))\n",
    "dataset = normalizer.fit_transform(data)\n",
    "\n",
    "# Using 80% of data for training, 20% for validation.\n",
    "TRAINING_PERCENT = 0.80\n",
    "\n",
    "train_size = int(len(dataset) * TRAINING_PERCENT)\n",
    "test_size = len(dataset) - train_size\n",
    "train, test = dataset[0:train_size, :], dataset[train_size:len(dataset), :]\n",
    "print(\"Number of samples training set: \" + str((len(train))))\n",
    "print(\"Number of samples test set: \" + str((len(test))))"
   ]
  },
  {
   "cell_type": "code",
   "execution_count": 9,
   "metadata": {},
   "outputs": [],
   "source": [
    "def create_dataset_nstep(dataset, window_size = 1, nstep = 1):\n",
    "    data_x, data_y = [], []\n",
    "    for i in range(len(dataset) - window_size - nstep - 1):\n",
    "        sample = dataset[i:(i + window_size), 0]\n",
    "        data_x.append(sample)\n",
    "        data_y.append(dataset[(i + window_size):(i + window_size + nstep), 0])\n",
    "    return(np.array(data_x), np.array(data_y))"
   ]
  },
  {
   "cell_type": "code",
   "execution_count": 15,
   "metadata": {
    "scrolled": true
   },
   "outputs": [
    {
     "name": "stdout",
     "output_type": "stream",
     "text": [
      "Train on 26824 samples, validate on 4734 samples\n",
      "Epoch 1/100\n",
      " - 3s - loss: 0.0065 - mse: 0.0065 - mae: 0.0489 - val_loss: 0.0018 - val_mse: 0.0018 - val_mae: 0.0328\n",
      "Epoch 2/100\n",
      " - 2s - loss: 9.9588e-04 - mse: 9.9587e-04 - mae: 0.0239 - val_loss: 9.0156e-04 - val_mse: 9.0156e-04 - val_mae: 0.0229\n",
      "Epoch 3/100\n",
      " - 2s - loss: 6.8652e-04 - mse: 6.8652e-04 - mae: 0.0198 - val_loss: 6.6434e-04 - val_mse: 6.6434e-04 - val_mae: 0.0194\n",
      "Epoch 4/100\n",
      " - 3s - loss: 5.7149e-04 - mse: 5.7149e-04 - mae: 0.0180 - val_loss: 0.0011 - val_mse: 0.0011 - val_mae: 0.0264\n",
      "Epoch 5/100\n",
      " - 3s - loss: 4.8073e-04 - mse: 4.8073e-04 - mae: 0.0164 - val_loss: 5.6412e-04 - val_mse: 5.6412e-04 - val_mae: 0.0175\n",
      "Epoch 6/100\n",
      " - 3s - loss: 4.4926e-04 - mse: 4.4926e-04 - mae: 0.0159 - val_loss: 4.4954e-04 - val_mse: 4.4954e-04 - val_mae: 0.0159\n",
      "Epoch 7/100\n",
      " - 3s - loss: 4.0129e-04 - mse: 4.0129e-04 - mae: 0.0149 - val_loss: 4.3022e-04 - val_mse: 4.3022e-04 - val_mae: 0.0151\n",
      "Epoch 8/100\n",
      " - 3s - loss: 3.8374e-04 - mse: 3.8374e-04 - mae: 0.0146 - val_loss: 3.9633e-04 - val_mse: 3.9633e-04 - val_mae: 0.0150\n",
      "Epoch 9/100\n",
      " - 3s - loss: 3.5430e-04 - mse: 3.5430e-04 - mae: 0.0139 - val_loss: 5.3013e-04 - val_mse: 5.3013e-04 - val_mae: 0.0174\n",
      "Epoch 10/100\n",
      " - 3s - loss: 3.4165e-04 - mse: 3.4165e-04 - mae: 0.0137 - val_loss: 5.5172e-04 - val_mse: 5.5172e-04 - val_mae: 0.0176\n",
      "Epoch 11/100\n",
      " - 3s - loss: 3.3491e-04 - mse: 3.3491e-04 - mae: 0.0135 - val_loss: 3.7876e-04 - val_mse: 3.7876e-04 - val_mae: 0.0142\n",
      "Epoch 12/100\n",
      " - 3s - loss: 3.0777e-04 - mse: 3.0777e-04 - mae: 0.0129 - val_loss: 7.1136e-04 - val_mse: 7.1136e-04 - val_mae: 0.0213\n",
      "Epoch 13/100\n",
      " - 3s - loss: 3.1850e-04 - mse: 3.1850e-04 - mae: 0.0132 - val_loss: 5.1039e-04 - val_mse: 5.1039e-04 - val_mae: 0.0167\n",
      "Epoch 14/100\n",
      " - 3s - loss: 2.8457e-04 - mse: 2.8457e-04 - mae: 0.0124 - val_loss: 4.0739e-04 - val_mse: 4.0739e-04 - val_mae: 0.0146\n",
      "Epoch 15/100\n",
      " - 3s - loss: 2.9021e-04 - mse: 2.9021e-04 - mae: 0.0125 - val_loss: 3.2592e-04 - val_mse: 3.2592e-04 - val_mae: 0.0130\n",
      "Epoch 16/100\n",
      " - 3s - loss: 2.9286e-04 - mse: 2.9286e-04 - mae: 0.0126 - val_loss: 5.0035e-04 - val_mse: 5.0035e-04 - val_mae: 0.0170\n",
      "Epoch 17/100\n",
      " - 3s - loss: 2.9449e-04 - mse: 2.9449e-04 - mae: 0.0127 - val_loss: 3.6846e-04 - val_mse: 3.6846e-04 - val_mae: 0.0141\n",
      "Epoch 18/100\n",
      " - 2s - loss: 2.8669e-04 - mse: 2.8669e-04 - mae: 0.0125 - val_loss: 3.7427e-04 - val_mse: 3.7427e-04 - val_mae: 0.0140\n",
      "Epoch 19/100\n",
      " - 3s - loss: 2.8244e-04 - mse: 2.8244e-04 - mae: 0.0124 - val_loss: 3.0201e-04 - val_mse: 3.0201e-04 - val_mae: 0.0126\n",
      "Epoch 20/100\n",
      " - 2s - loss: 2.7306e-04 - mse: 2.7306e-04 - mae: 0.0122 - val_loss: 6.1580e-04 - val_mse: 6.1580e-04 - val_mae: 0.0197\n",
      "Epoch 21/100\n",
      " - 3s - loss: 2.6609e-04 - mse: 2.6609e-04 - mae: 0.0120 - val_loss: 2.9523e-04 - val_mse: 2.9523e-04 - val_mae: 0.0123\n",
      "Epoch 22/100\n",
      " - 2s - loss: 2.8141e-04 - mse: 2.8141e-04 - mae: 0.0124 - val_loss: 2.9634e-04 - val_mse: 2.9634e-04 - val_mae: 0.0123\n",
      "Epoch 23/100\n",
      " - 2s - loss: 2.6968e-04 - mse: 2.6968e-04 - mae: 0.0121 - val_loss: 3.0603e-04 - val_mse: 3.0603e-04 - val_mae: 0.0127\n",
      "Epoch 24/100\n",
      " - 3s - loss: 2.6496e-04 - mse: 2.6496e-04 - mae: 0.0120 - val_loss: 3.7145e-04 - val_mse: 3.7145e-04 - val_mae: 0.0146\n",
      "Epoch 25/100\n",
      " - 2s - loss: 2.5697e-04 - mse: 2.5697e-04 - mae: 0.0117 - val_loss: 6.5102e-04 - val_mse: 6.5102e-04 - val_mae: 0.0211\n",
      "Epoch 26/100\n",
      " - 3s - loss: 2.6408e-04 - mse: 2.6408e-04 - mae: 0.0120 - val_loss: 3.0248e-04 - val_mse: 3.0248e-04 - val_mae: 0.0125\n",
      "Epoch 00026: early stopping\n"
     ]
    }
   ],
   "source": [
    "def create_model_nstep(train_X, train_Y, window_size = 1, nstep = 1):\n",
    "    vanilla_rnn = Sequential()\n",
    "    vanilla_rnn.add(LSTM(20, input_shape = (1, window_size)))\n",
    "    vanilla_rnn.add(Dense(nstep))\n",
    "    vanilla_rnn.compile(loss = \"mean_squared_error\", \n",
    "                  optimizer = \"adam\", metrics = ['mse', 'mae'])\n",
    "    return(vanilla_rnn)\n",
    "\n",
    "window_size = 100\n",
    "nstep = 1\n",
    "train_X, train_Y = create_dataset_nstep(train, window_size, nstep)\n",
    "test_X, test_Y = create_dataset_nstep(test, window_size, nstep)\n",
    "train_X = np.reshape(train_X, (train_X.shape[0], 1, train_X.shape[1]))\n",
    "test_X = np.reshape(test_X, (test_X.shape[0], 1, test_X.shape[1]))\n",
    "\n",
    "vanilla_rnn = create_model_nstep(train_X, train_Y, window_size, nstep)\n",
    "#SVG(model_to_dot(vanilla_rnn, show_shapes=True).create(prog='dot', format='svg'))\n",
    "es = callbacks.EarlyStopping(monitor='val_loss', patience=5, verbose=1)\n",
    "history = vanilla_rnn.fit(train_X, train_Y, epochs = 100, batch_size = 32, verbose = 2, validation_split=0.15, \n",
    "                          callbacks=[es])"
   ]
  },
  {
   "cell_type": "code",
   "execution_count": 17,
   "metadata": {},
   "outputs": [
    {
     "name": "stdout",
     "output_type": "stream",
     "text": [
      "Training data error: 594.47 MSE\n",
      "Test data error: 642.20 MSE\n",
      "Training data error: 20.63 MAE\n",
      "Test data error: 21.51 MAE\n"
     ]
    }
   ],
   "source": [
    "def get_predict_and_score_multi(model, X, Y):\n",
    "    # transform the prediction to the original scale\n",
    "    pred = normalizer.inverse_transform(model.predict(X))\n",
    "    # transform also the label to the original scale for interpretability\n",
    "    orig_data =normalizer.inverse_transform(Y)\n",
    "    # calculate RMSE\n",
    "    score = math.sqrt(mean_squared_error(orig_data, pred))\n",
    "    score2 = math.sqrt(mean_absolute_error(orig_data, pred))\n",
    "    return(score, score2, pred)\n",
    "\n",
    "mse_train, mae_train, train_predict = get_predict_and_score_multi(vanilla_rnn, train_X, train_Y)\n",
    "mse_test, mae_test, test_predict = get_predict_and_score_multi(vanilla_rnn, test_X, test_Y)\n",
    "print(\"Training data error: %.2f MSE\" % mse_train)\n",
    "print(\"Test data error: %.2f MSE\" % mse_test)\n",
    "print(\"Training data error: %.2f MAE\" % mae_train)\n",
    "print(\"Test data error: %.2f MAE\" % mae_test)"
   ]
  },
  {
   "cell_type": "code",
   "execution_count": 23,
   "metadata": {
    "scrolled": true
   },
   "outputs": [
    {
     "ename": "OSError",
     "evalue": "`pydot` failed to call GraphViz.Please install GraphViz (https://www.graphviz.org/) and ensure that its executables are in the $PATH.",
     "output_type": "error",
     "traceback": [
      "\u001b[1;31m---------------------------------------------------------------------------\u001b[0m",
      "\u001b[1;31mFileNotFoundError\u001b[0m                         Traceback (most recent call last)",
      "\u001b[1;32mC:\\ProgramData\\Anaconda3\\lib\\site-packages\\pydot.py\u001b[0m in \u001b[0;36mcreate\u001b[1;34m(self, prog, format, encoding)\u001b[0m\n\u001b[0;32m   1914\u001b[0m                 \u001b[0marguments\u001b[0m\u001b[1;33m=\u001b[0m\u001b[0marguments\u001b[0m\u001b[1;33m,\u001b[0m\u001b[1;33m\u001b[0m\u001b[1;33m\u001b[0m\u001b[0m\n\u001b[1;32m-> 1915\u001b[1;33m                 \u001b[0mworking_dir\u001b[0m\u001b[1;33m=\u001b[0m\u001b[0mtmp_dir\u001b[0m\u001b[1;33m,\u001b[0m\u001b[1;33m\u001b[0m\u001b[1;33m\u001b[0m\u001b[0m\n\u001b[0m\u001b[0;32m   1916\u001b[0m             )\n",
      "\u001b[1;32mC:\\ProgramData\\Anaconda3\\lib\\site-packages\\pydot.py\u001b[0m in \u001b[0;36mcall_graphviz\u001b[1;34m(program, arguments, working_dir, **kwargs)\u001b[0m\n\u001b[0;32m    135\u001b[0m         \u001b[0mstdout\u001b[0m\u001b[1;33m=\u001b[0m\u001b[0msubprocess\u001b[0m\u001b[1;33m.\u001b[0m\u001b[0mPIPE\u001b[0m\u001b[1;33m,\u001b[0m\u001b[1;33m\u001b[0m\u001b[1;33m\u001b[0m\u001b[0m\n\u001b[1;32m--> 136\u001b[1;33m         \u001b[1;33m**\u001b[0m\u001b[0mkwargs\u001b[0m\u001b[1;33m\u001b[0m\u001b[1;33m\u001b[0m\u001b[0m\n\u001b[0m\u001b[0;32m    137\u001b[0m     )\n",
      "\u001b[1;32mC:\\ProgramData\\Anaconda3\\lib\\subprocess.py\u001b[0m in \u001b[0;36m__init__\u001b[1;34m(self, args, bufsize, executable, stdin, stdout, stderr, preexec_fn, close_fds, shell, cwd, env, universal_newlines, startupinfo, creationflags, restore_signals, start_new_session, pass_fds, encoding, errors, text)\u001b[0m\n\u001b[0;32m    774\u001b[0m                                 \u001b[0merrread\u001b[0m\u001b[1;33m,\u001b[0m \u001b[0merrwrite\u001b[0m\u001b[1;33m,\u001b[0m\u001b[1;33m\u001b[0m\u001b[1;33m\u001b[0m\u001b[0m\n\u001b[1;32m--> 775\u001b[1;33m                                 restore_signals, start_new_session)\n\u001b[0m\u001b[0;32m    776\u001b[0m         \u001b[1;32mexcept\u001b[0m\u001b[1;33m:\u001b[0m\u001b[1;33m\u001b[0m\u001b[1;33m\u001b[0m\u001b[0m\n",
      "\u001b[1;32mC:\\ProgramData\\Anaconda3\\lib\\subprocess.py\u001b[0m in \u001b[0;36m_execute_child\u001b[1;34m(self, args, executable, preexec_fn, close_fds, pass_fds, cwd, env, startupinfo, creationflags, shell, p2cread, p2cwrite, c2pread, c2pwrite, errread, errwrite, unused_restore_signals, unused_start_new_session)\u001b[0m\n\u001b[0;32m   1177\u001b[0m                                          \u001b[0mos\u001b[0m\u001b[1;33m.\u001b[0m\u001b[0mfspath\u001b[0m\u001b[1;33m(\u001b[0m\u001b[0mcwd\u001b[0m\u001b[1;33m)\u001b[0m \u001b[1;32mif\u001b[0m \u001b[0mcwd\u001b[0m \u001b[1;32mis\u001b[0m \u001b[1;32mnot\u001b[0m \u001b[1;32mNone\u001b[0m \u001b[1;32melse\u001b[0m \u001b[1;32mNone\u001b[0m\u001b[1;33m,\u001b[0m\u001b[1;33m\u001b[0m\u001b[1;33m\u001b[0m\u001b[0m\n\u001b[1;32m-> 1178\u001b[1;33m                                          startupinfo)\n\u001b[0m\u001b[0;32m   1179\u001b[0m             \u001b[1;32mfinally\u001b[0m\u001b[1;33m:\u001b[0m\u001b[1;33m\u001b[0m\u001b[1;33m\u001b[0m\u001b[0m\n",
      "\u001b[1;31mFileNotFoundError\u001b[0m: [WinError 2] The system cannot find the file specified",
      "\nDuring handling of the above exception, another exception occurred:\n",
      "\u001b[1;31mFileNotFoundError\u001b[0m                         Traceback (most recent call last)",
      "\u001b[1;32mC:\\ProgramData\\Anaconda3\\lib\\site-packages\\keras\\utils\\vis_utils.py\u001b[0m in \u001b[0;36m_check_pydot\u001b[1;34m()\u001b[0m\n\u001b[0;32m     27\u001b[0m         \u001b[1;31m# to check the pydot/graphviz installation.\u001b[0m\u001b[1;33m\u001b[0m\u001b[1;33m\u001b[0m\u001b[1;33m\u001b[0m\u001b[0m\n\u001b[1;32m---> 28\u001b[1;33m         \u001b[0mpydot\u001b[0m\u001b[1;33m.\u001b[0m\u001b[0mDot\u001b[0m\u001b[1;33m.\u001b[0m\u001b[0mcreate\u001b[0m\u001b[1;33m(\u001b[0m\u001b[0mpydot\u001b[0m\u001b[1;33m.\u001b[0m\u001b[0mDot\u001b[0m\u001b[1;33m(\u001b[0m\u001b[1;33m)\u001b[0m\u001b[1;33m)\u001b[0m\u001b[1;33m\u001b[0m\u001b[1;33m\u001b[0m\u001b[0m\n\u001b[0m\u001b[0;32m     29\u001b[0m     \u001b[1;32mexcept\u001b[0m \u001b[0mOSError\u001b[0m\u001b[1;33m:\u001b[0m\u001b[1;33m\u001b[0m\u001b[1;33m\u001b[0m\u001b[0m\n",
      "\u001b[1;32mC:\\ProgramData\\Anaconda3\\lib\\site-packages\\pydot.py\u001b[0m in \u001b[0;36mcreate\u001b[1;34m(self, prog, format, encoding)\u001b[0m\n\u001b[0;32m   1921\u001b[0m                     prog=prog)\n\u001b[1;32m-> 1922\u001b[1;33m                 \u001b[1;32mraise\u001b[0m \u001b[0mOSError\u001b[0m\u001b[1;33m(\u001b[0m\u001b[1;33m*\u001b[0m\u001b[0margs\u001b[0m\u001b[1;33m)\u001b[0m\u001b[1;33m\u001b[0m\u001b[1;33m\u001b[0m\u001b[0m\n\u001b[0m\u001b[0;32m   1923\u001b[0m             \u001b[1;32melse\u001b[0m\u001b[1;33m:\u001b[0m\u001b[1;33m\u001b[0m\u001b[1;33m\u001b[0m\u001b[0m\n",
      "\u001b[1;31mFileNotFoundError\u001b[0m: [WinError 2] \"dot\" not found in path.",
      "\nDuring handling of the above exception, another exception occurred:\n",
      "\u001b[1;31mOSError\u001b[0m                                   Traceback (most recent call last)",
      "\u001b[1;32m<ipython-input-23-277cd75e7551>\u001b[0m in \u001b[0;36m<module>\u001b[1;34m\u001b[0m\n\u001b[0;32m      7\u001b[0m \u001b[1;33m\u001b[0m\u001b[0m\n\u001b[0;32m      8\u001b[0m \u001b[0mvanilla_rnn\u001b[0m \u001b[1;33m=\u001b[0m \u001b[0mcreate_model_nstep\u001b[0m\u001b[1;33m(\u001b[0m\u001b[0mtrain_X\u001b[0m\u001b[1;33m,\u001b[0m \u001b[0mtrain_Y\u001b[0m\u001b[1;33m,\u001b[0m \u001b[0mwindow_size\u001b[0m\u001b[1;33m,\u001b[0m \u001b[0mnstep\u001b[0m\u001b[1;33m)\u001b[0m\u001b[1;33m\u001b[0m\u001b[1;33m\u001b[0m\u001b[0m\n\u001b[1;32m----> 9\u001b[1;33m \u001b[0mSVG\u001b[0m\u001b[1;33m(\u001b[0m\u001b[0mmodel_to_dot\u001b[0m\u001b[1;33m(\u001b[0m\u001b[0mvanilla_rnn\u001b[0m\u001b[1;33m,\u001b[0m \u001b[0mshow_shapes\u001b[0m\u001b[1;33m=\u001b[0m\u001b[1;32mTrue\u001b[0m\u001b[1;33m)\u001b[0m\u001b[1;33m.\u001b[0m\u001b[0mcreate\u001b[0m\u001b[1;33m(\u001b[0m\u001b[0mprog\u001b[0m\u001b[1;33m=\u001b[0m\u001b[1;34m'dot'\u001b[0m\u001b[1;33m,\u001b[0m \u001b[0mformat\u001b[0m\u001b[1;33m=\u001b[0m\u001b[1;34m'svg'\u001b[0m\u001b[1;33m)\u001b[0m\u001b[1;33m)\u001b[0m\u001b[1;33m\u001b[0m\u001b[1;33m\u001b[0m\u001b[0m\n\u001b[0m\u001b[0;32m     10\u001b[0m \u001b[0mes\u001b[0m \u001b[1;33m=\u001b[0m \u001b[0mcallbacks\u001b[0m\u001b[1;33m.\u001b[0m\u001b[0mEarlyStopping\u001b[0m\u001b[1;33m(\u001b[0m\u001b[0mmonitor\u001b[0m\u001b[1;33m=\u001b[0m\u001b[1;34m'val_loss'\u001b[0m\u001b[1;33m,\u001b[0m \u001b[0mpatience\u001b[0m\u001b[1;33m=\u001b[0m\u001b[1;36m5\u001b[0m\u001b[1;33m,\u001b[0m \u001b[0mverbose\u001b[0m\u001b[1;33m=\u001b[0m\u001b[1;36m1\u001b[0m\u001b[1;33m)\u001b[0m\u001b[1;33m\u001b[0m\u001b[1;33m\u001b[0m\u001b[0m\n\u001b[0;32m     11\u001b[0m history = vanilla_rnn.fit(train_X, train_Y, epochs = 100, batch_size = 32, verbose = 2, validation_split=0.15, \n",
      "\u001b[1;32mC:\\ProgramData\\Anaconda3\\lib\\site-packages\\keras\\utils\\vis_utils.py\u001b[0m in \u001b[0;36mmodel_to_dot\u001b[1;34m(model, show_shapes, show_layer_names, rankdir, expand_nested, dpi, subgraph)\u001b[0m\n\u001b[0;32m     77\u001b[0m     \u001b[1;32mfrom\u001b[0m \u001b[1;33m.\u001b[0m\u001b[1;33m.\u001b[0m\u001b[0mmodels\u001b[0m \u001b[1;32mimport\u001b[0m \u001b[0mSequential\u001b[0m\u001b[1;33m\u001b[0m\u001b[1;33m\u001b[0m\u001b[0m\n\u001b[0;32m     78\u001b[0m \u001b[1;33m\u001b[0m\u001b[0m\n\u001b[1;32m---> 79\u001b[1;33m     \u001b[0m_check_pydot\u001b[0m\u001b[1;33m(\u001b[0m\u001b[1;33m)\u001b[0m\u001b[1;33m\u001b[0m\u001b[1;33m\u001b[0m\u001b[0m\n\u001b[0m\u001b[0;32m     80\u001b[0m     \u001b[1;32mif\u001b[0m \u001b[0msubgraph\u001b[0m\u001b[1;33m:\u001b[0m\u001b[1;33m\u001b[0m\u001b[1;33m\u001b[0m\u001b[0m\n\u001b[0;32m     81\u001b[0m         \u001b[0mdot\u001b[0m \u001b[1;33m=\u001b[0m \u001b[0mpydot\u001b[0m\u001b[1;33m.\u001b[0m\u001b[0mCluster\u001b[0m\u001b[1;33m(\u001b[0m\u001b[0mstyle\u001b[0m\u001b[1;33m=\u001b[0m\u001b[1;34m'dashed'\u001b[0m\u001b[1;33m,\u001b[0m \u001b[0mgraph_name\u001b[0m\u001b[1;33m=\u001b[0m\u001b[0mmodel\u001b[0m\u001b[1;33m.\u001b[0m\u001b[0mname\u001b[0m\u001b[1;33m)\u001b[0m\u001b[1;33m\u001b[0m\u001b[1;33m\u001b[0m\u001b[0m\n",
      "\u001b[1;32mC:\\ProgramData\\Anaconda3\\lib\\site-packages\\keras\\utils\\vis_utils.py\u001b[0m in \u001b[0;36m_check_pydot\u001b[1;34m()\u001b[0m\n\u001b[0;32m     29\u001b[0m     \u001b[1;32mexcept\u001b[0m \u001b[0mOSError\u001b[0m\u001b[1;33m:\u001b[0m\u001b[1;33m\u001b[0m\u001b[1;33m\u001b[0m\u001b[0m\n\u001b[0;32m     30\u001b[0m         raise OSError(\n\u001b[1;32m---> 31\u001b[1;33m             \u001b[1;34m'`pydot` failed to call GraphViz.'\u001b[0m\u001b[1;33m\u001b[0m\u001b[1;33m\u001b[0m\u001b[0m\n\u001b[0m\u001b[0;32m     32\u001b[0m             \u001b[1;34m'Please install GraphViz (https://www.graphviz.org/) '\u001b[0m\u001b[1;33m\u001b[0m\u001b[1;33m\u001b[0m\u001b[0m\n\u001b[0;32m     33\u001b[0m             'and ensure that its executables are in the $PATH.')\n",
      "\u001b[1;31mOSError\u001b[0m: `pydot` failed to call GraphViz.Please install GraphViz (https://www.graphviz.org/) and ensure that its executables are in the $PATH."
     ]
    }
   ],
   "source": [
    "window_size = 200\n",
    "nstep = 24\n",
    "train_X, train_Y = create_dataset_nstep(train, window_size, nstep)\n",
    "test_X, test_Y = create_dataset_nstep(test, window_size, nstep)\n",
    "train_X = np.reshape(train_X, (train_X.shape[0], 1, train_X.shape[1]))\n",
    "test_X = np.reshape(test_X, (test_X.shape[0], 1, test_X.shape[1]))\n",
    "\n",
    "vanilla_rnn = create_model_nstep(train_X, train_Y, window_size, nstep)\n",
    "SVG(model_to_dot(vanilla_rnn, show_shapes=True).create(prog='dot', format='svg'))\n",
    "es = callbacks.EarlyStopping(monitor='val_loss', patience=5, verbose=1)\n",
    "history = vanilla_rnn.fit(train_X, train_Y, epochs = 100, batch_size = 32, verbose = 2, validation_split=0.15, \n",
    "                          callbacks=[es])"
   ]
  },
  {
   "cell_type": "code",
   "execution_count": 28,
   "metadata": {},
   "outputs": [
    {
     "name": "stdout",
     "output_type": "stream",
     "text": [
      "Training data error: 2516.00 MSE\n",
      "Test data error: 2763.08 MSE\n",
      "Training data error: 42.78 MAE\n",
      "Test data error: 44.65 MAE\n"
     ]
    }
   ],
   "source": [
    "def get_predict_and_score_multi(model, X, Y):\n",
    "    # transform the prediction to the original scale\n",
    "    pred = normalizer.inverse_transform(model.predict(X))\n",
    "    # transform also the label to the original scale for interpretability\n",
    "    orig_data =normalizer.inverse_transform(Y)\n",
    "    # calculate RMSE\n",
    "    score = math.sqrt(mean_squared_error(orig_data, pred))\n",
    "    score2 = math.sqrt(mean_absolute_error(orig_data, pred))\n",
    "    return(score, score2, pred)\n",
    "\n",
    "mse_train, mae_train, train_predict = get_predict_and_score_multi(vanilla_rnn, train_X, train_Y)\n",
    "mse_test, mae_test, test_predict = get_predict_and_score_multi(vanilla_rnn, test_X, test_Y)\n",
    "print(\"Training data error: %.2f MSE\" % mse_train)\n",
    "print(\"Test data error: %.2f MSE\" % mse_test)\n",
    "print(\"Training data error: %.2f MAE\" % mae_train)\n",
    "print(\"Test data error: %.2f MAE\" % mae_test)"
   ]
  },
  {
   "cell_type": "code",
   "execution_count": 30,
   "metadata": {
    "scrolled": true
   },
   "outputs": [
    {
     "name": "stdout",
     "output_type": "stream",
     "text": [
      "Train on 25917 samples, validate on 4574 samples\n",
      "Epoch 1/100\n",
      " - 11s - loss: 0.0125 - mean_squared_error: 0.0125 - mean_absolute_error: 0.0820 - val_loss: 0.0110 - val_mean_squared_error: 0.0110 - val_mean_absolute_error: 0.0800\n",
      "Epoch 2/100\n",
      " - 7s - loss: 0.0080 - mean_squared_error: 0.0080 - mean_absolute_error: 0.0673 - val_loss: 0.0110 - val_mean_squared_error: 0.0110 - val_mean_absolute_error: 0.0793\n",
      "Epoch 3/100\n",
      " - 7s - loss: 0.0079 - mean_squared_error: 0.0079 - mean_absolute_error: 0.0666 - val_loss: 0.0107 - val_mean_squared_error: 0.0107 - val_mean_absolute_error: 0.0778\n",
      "Epoch 4/100\n",
      " - 7s - loss: 0.0077 - mean_squared_error: 0.0077 - mean_absolute_error: 0.0659 - val_loss: 0.0109 - val_mean_squared_error: 0.0109 - val_mean_absolute_error: 0.0780\n",
      "Epoch 5/100\n",
      " - 7s - loss: 0.0076 - mean_squared_error: 0.0076 - mean_absolute_error: 0.0655 - val_loss: 0.0115 - val_mean_squared_error: 0.0115 - val_mean_absolute_error: 0.0813\n",
      "Epoch 6/100\n",
      " - 7s - loss: 0.0075 - mean_squared_error: 0.0075 - mean_absolute_error: 0.0649 - val_loss: 0.0117 - val_mean_squared_error: 0.0117 - val_mean_absolute_error: 0.0804\n",
      "Epoch 7/100\n",
      " - 7s - loss: 0.0073 - mean_squared_error: 0.0073 - mean_absolute_error: 0.0641 - val_loss: 0.0117 - val_mean_squared_error: 0.0117 - val_mean_absolute_error: 0.0803\n",
      "Epoch 8/100\n",
      " - 7s - loss: 0.0072 - mean_squared_error: 0.0072 - mean_absolute_error: 0.0636 - val_loss: 0.0116 - val_mean_squared_error: 0.0116 - val_mean_absolute_error: 0.0807\n",
      "Epoch 00008: early stopping\n"
     ]
    }
   ],
   "source": [
    "window_size = 1000\n",
    "nstep = 24*7\n",
    "train_X, train_Y = create_dataset_nstep(train, window_size, nstep)\n",
    "test_X, test_Y = create_dataset_nstep(test, window_size, nstep)\n",
    "train_X = np.reshape(train_X, (train_X.shape[0], 1, train_X.shape[1]))\n",
    "test_X = np.reshape(test_X, (test_X.shape[0], 1, test_X.shape[1]))\n",
    "\n",
    "vanilla_rnn = create_model_nstep(train_X, train_Y, window_size, nstep)\n",
    "SVG(model_to_dot(vanilla_rnn, show_shapes=True).create(prog='dot', format='svg'))\n",
    "es = callbacks.EarlyStopping(monitor='val_loss', patience=5, verbose=1)\n",
    "history = vanilla_rnn.fit(train_X, train_Y, epochs = 100, batch_size = 32, verbose = 2, validation_split=0.15, \n",
    "                          callbacks=[es])"
   ]
  },
  {
   "cell_type": "code",
   "execution_count": 31,
   "metadata": {},
   "outputs": [
    {
     "name": "stdout",
     "output_type": "stream",
     "text": [
      "Training data error: 3375.22 MSE\n",
      "Test data error: 4249.99 MSE\n",
      "Training data error: 50.46 MAE\n",
      "Test data error: 56.08 MAE\n"
     ]
    }
   ],
   "source": [
    "def get_predict_and_score_multi(model, X, Y):\n",
    "    # transform the prediction to the original scale\n",
    "    pred = normalizer.inverse_transform(model.predict(X))\n",
    "    # transform also the label to the original scale for interpretability\n",
    "    orig_data =normalizer.inverse_transform(Y)\n",
    "    # calculate RMSE\n",
    "    score = math.sqrt(mean_squared_error(orig_data, pred))\n",
    "    score2 = math.sqrt(mean_absolute_error(orig_data, pred))\n",
    "    return(score, score2, pred)\n",
    "\n",
    "mse_train, mae_train, train_predict = get_predict_and_score_multi(vanilla_rnn, train_X, train_Y)\n",
    "mse_test, mae_test, test_predict = get_predict_and_score_multi(vanilla_rnn, test_X, test_Y)\n",
    "print(\"Training data error: %.2f MSE\" % mse_train)\n",
    "print(\"Test data error: %.2f MSE\" % mse_test)\n",
    "print(\"Training data error: %.2f MAE\" % mae_train)\n",
    "print(\"Test data error: %.2f MAE\" % mae_test)"
   ]
  },
  {
   "cell_type": "markdown",
   "metadata": {},
   "source": [
    "## Multivariable LSTM"
   ]
  },
  {
   "cell_type": "code",
   "execution_count": 33,
   "metadata": {},
   "outputs": [
    {
     "data": {
      "text/html": [
       "<div>\n",
       "<style scoped>\n",
       "    .dataframe tbody tr th:only-of-type {\n",
       "        vertical-align: middle;\n",
       "    }\n",
       "\n",
       "    .dataframe tbody tr th {\n",
       "        vertical-align: top;\n",
       "    }\n",
       "\n",
       "    .dataframe thead th {\n",
       "        text-align: right;\n",
       "    }\n",
       "</style>\n",
       "<table border=\"1\" class=\"dataframe\">\n",
       "  <thead>\n",
       "    <tr style=\"text-align: right;\">\n",
       "      <th></th>\n",
       "      <th></th>\n",
       "      <th></th>\n",
       "      <th></th>\n",
       "      <th>1</th>\n",
       "      <th>2</th>\n",
       "      <th>3</th>\n",
       "      <th>4</th>\n",
       "      <th>5</th>\n",
       "      <th>6</th>\n",
       "      <th>7</th>\n",
       "      <th>8</th>\n",
       "      <th>9</th>\n",
       "      <th>10</th>\n",
       "      <th>11</th>\n",
       "    </tr>\n",
       "  </thead>\n",
       "  <tbody>\n",
       "    <tr>\n",
       "      <th rowspan=\"2\" valign=\"top\">2004</th>\n",
       "      <th rowspan=\"2\" valign=\"top\">1</th>\n",
       "      <th rowspan=\"2\" valign=\"top\">1</th>\n",
       "      <th>1</th>\n",
       "      <td>46.0</td>\n",
       "      <td>38.0</td>\n",
       "      <td>44.0</td>\n",
       "      <td>45.0</td>\n",
       "      <td>42.0</td>\n",
       "      <td>44.0</td>\n",
       "      <td>45.0</td>\n",
       "      <td>43.0</td>\n",
       "      <td>41.0</td>\n",
       "      <td>42.0</td>\n",
       "      <td>36.0</td>\n",
       "    </tr>\n",
       "    <tr>\n",
       "      <th>2</th>\n",
       "      <td>46.0</td>\n",
       "      <td>36.0</td>\n",
       "      <td>42.0</td>\n",
       "      <td>43.0</td>\n",
       "      <td>42.0</td>\n",
       "      <td>43.0</td>\n",
       "      <td>44.0</td>\n",
       "      <td>44.0</td>\n",
       "      <td>39.0</td>\n",
       "      <td>43.0</td>\n",
       "      <td>32.0</td>\n",
       "    </tr>\n",
       "  </tbody>\n",
       "</table>\n",
       "</div>"
      ],
      "text/plain": [
       "              1     2     3     4     5     6     7     8     9     10    11\n",
       "2004 1 1 1  46.0  38.0  44.0  45.0  42.0  44.0  45.0  43.0  41.0  42.0  36.0\n",
       "         2  46.0  36.0  42.0  43.0  42.0  43.0  44.0  44.0  39.0  43.0  32.0"
      ]
     },
     "execution_count": 33,
     "metadata": {},
     "output_type": "execute_result"
    }
   ],
   "source": [
    "PATH = r\"../../Data/temperature_history.csv\"\n",
    "df_T = pd.read_csv(PATH)\n",
    "h_df_T = df_T.set_index(['station_id', 'year', 'month', 'day'])\n",
    "trans_dict = {}\n",
    "for i in list(h_df_T.columns):\n",
    "    trans_dict[i] = int(i[1:])\n",
    "h_df_T = h_df_T.rename(columns=trans_dict)\n",
    "h_df_T = h_df_T.stack()\n",
    "h_df_T = h_df_T.unstack(level=0)\n",
    "h_df_T.columns = h_df_T.columns.get_level_values(0)\n",
    "h_df_T.columns.names = [None]\n",
    "h_df_T.index.names = [None, None, None, None]\n",
    "\n",
    "PATH = r\"../../Data/temperature_solution.csv\"\n",
    "df_T_Sol = pd.read_csv(PATH)\n",
    "h_df_T_Sol = df_T_Sol.set_index(['station_id', 'year', 'month', 'day', 'hour'])\n",
    "h_df_T_Sol = h_df_T_Sol.drop(['datetime', 'date'], axis=1)\n",
    "h_df_T_Sol = h_df_T_Sol.unstack(level=0)\n",
    "h_df_T_Sol.columns = h_df_T_Sol.columns.get_level_values(1)\n",
    "h_df_T_Sol.columns.names = [None]\n",
    "h_df_T_Sol.index.names = [None, None, None, None]\n",
    "\n",
    "zone_T = pd.concat([h_df_T, h_df_T_Sol], axis=0, join='outer', ignore_index=False, keys=None, \n",
    "          levels=None, names=None, verify_integrity=True, copy=True)\n",
    "\n",
    "T_mean = zone_T.mean(axis=1)\n",
    "temp['T'] = T_mean\n",
    "\n",
    "zone_T.head(2)"
   ]
  },
  {
   "cell_type": "code",
   "execution_count": 34,
   "metadata": {},
   "outputs": [
    {
     "data": {
      "text/plain": [
       "array([<matplotlib.axes._subplots.AxesSubplot object at 0x0000028FAC150888>,\n",
       "       <matplotlib.axes._subplots.AxesSubplot object at 0x0000028FAF838308>],\n",
       "      dtype=object)"
      ]
     },
     "execution_count": 34,
     "metadata": {},
     "output_type": "execute_result"
    },
    {
     "data": {
      "image/png": "[encoded data removed]",
      "text/plain": [
       "<Figure size 432x288 with 2 Axes>"
      ]
     },
     "metadata": {
      "needs_background": "light"
     },
     "output_type": "display_data"
    }
   ],
   "source": [
    "temp[[1, 'T']].plot(subplots=True)"
   ]
  },
  {
   "cell_type": "code",
   "execution_count": 35,
   "metadata": {},
   "outputs": [
    {
     "name": "stdout",
     "output_type": "stream",
     "text": [
      "Number of samples training set: 31660\n",
      "Number of samples test set: 7916\n"
     ]
    }
   ],
   "source": [
    "scaler = MinMaxScaler(feature_range=(0, 1))\n",
    "scaled = scaler.fit_transform(temp[[1, 'T']])\n",
    "\n",
    "# Using 80% of data for training, 20% for validation.\n",
    "TRAINING_PERCENT = 0.80\n",
    "\n",
    "train_size = int(len(scaled) * TRAINING_PERCENT)\n",
    "test_size = len(scaled) - train_size\n",
    "train_multi, test_multi = scaled[0:train_size, :], scaled[train_size:len(scaled), :]\n",
    "print(\"Number of samples training set: \" + str((len(train_multi))))\n",
    "print(\"Number of samples test set: \" + str((len(test_multi))))"
   ]
  },
  {
   "cell_type": "code",
   "execution_count": 51,
   "metadata": {
    "scrolled": true
   },
   "outputs": [
    {
     "name": "stdout",
     "output_type": "stream",
     "text": [
      "Train on 26824 samples, validate on 4734 samples\n",
      "Epoch 1/100\n",
      " - 7s - loss: 0.0027 - mean_squared_error: 0.0027 - mean_absolute_error: 0.0353 - val_loss: 0.0011 - val_mean_squared_error: 0.0011 - val_mean_absolute_error: 0.0249\n",
      "Epoch 2/100\n",
      " - 2s - loss: 7.0408e-04 - mean_squared_error: 7.0408e-04 - mean_absolute_error: 0.0198 - val_loss: 6.9798e-04 - val_mean_squared_error: 6.9798e-04 - val_mean_absolute_error: 0.0197\n",
      "Epoch 3/100\n",
      " - 2s - loss: 5.4853e-04 - mean_squared_error: 5.4853e-04 - mean_absolute_error: 0.0174 - val_loss: 6.9910e-04 - val_mean_squared_error: 6.9910e-04 - val_mean_absolute_error: 0.0198\n",
      "Epoch 4/100\n",
      " - 2s - loss: 4.6189e-04 - mean_squared_error: 4.6189e-04 - mean_absolute_error: 0.0159 - val_loss: 6.7978e-04 - val_mean_squared_error: 6.7978e-04 - val_mean_absolute_error: 0.0198\n",
      "Epoch 5/100\n",
      " - 2s - loss: 4.3178e-04 - mean_squared_error: 4.3178e-04 - mean_absolute_error: 0.0153 - val_loss: 7.1751e-04 - val_mean_squared_error: 7.1751e-04 - val_mean_absolute_error: 0.0203\n",
      "Epoch 6/100\n",
      " - 2s - loss: 4.0579e-04 - mean_squared_error: 4.0579e-04 - mean_absolute_error: 0.0149 - val_loss: 4.5490e-04 - val_mean_squared_error: 4.5490e-04 - val_mean_absolute_error: 0.0161\n",
      "Epoch 7/100\n",
      " - 2s - loss: 3.7492e-04 - mean_squared_error: 3.7492e-04 - mean_absolute_error: 0.0142 - val_loss: 9.9452e-04 - val_mean_squared_error: 9.9452e-04 - val_mean_absolute_error: 0.0249\n",
      "Epoch 8/100\n",
      " - 2s - loss: 3.5044e-04 - mean_squared_error: 3.5044e-04 - mean_absolute_error: 0.0137 - val_loss: 5.6049e-04 - val_mean_squared_error: 5.6049e-04 - val_mean_absolute_error: 0.0181\n",
      "Epoch 9/100\n",
      " - 2s - loss: 3.3504e-04 - mean_squared_error: 3.3504e-04 - mean_absolute_error: 0.0134 - val_loss: 7.5649e-04 - val_mean_squared_error: 7.5649e-04 - val_mean_absolute_error: 0.0216\n",
      "Epoch 10/100\n",
      " - 2s - loss: 3.2424e-04 - mean_squared_error: 3.2424e-04 - mean_absolute_error: 0.0131 - val_loss: 3.7501e-04 - val_mean_squared_error: 3.7501e-04 - val_mean_absolute_error: 0.0139\n",
      "Epoch 11/100\n",
      " - 2s - loss: 3.2651e-04 - mean_squared_error: 3.2651e-04 - mean_absolute_error: 0.0133 - val_loss: 7.3892e-04 - val_mean_squared_error: 7.3892e-04 - val_mean_absolute_error: 0.0216\n",
      "Epoch 12/100\n",
      " - 2s - loss: 3.0955e-04 - mean_squared_error: 3.0955e-04 - mean_absolute_error: 0.0128 - val_loss: 8.5344e-04 - val_mean_squared_error: 8.5344e-04 - val_mean_absolute_error: 0.0238\n",
      "Epoch 13/100\n",
      " - 2s - loss: 3.1467e-04 - mean_squared_error: 3.1467e-04 - mean_absolute_error: 0.0130 - val_loss: 3.3757e-04 - val_mean_squared_error: 3.3757e-04 - val_mean_absolute_error: 0.0133\n",
      "Epoch 14/100\n",
      " - 2s - loss: 2.9552e-04 - mean_squared_error: 2.9552e-04 - mean_absolute_error: 0.0126 - val_loss: 3.4624e-04 - val_mean_squared_error: 3.4624e-04 - val_mean_absolute_error: 0.0133\n",
      "Epoch 15/100\n",
      " - 2s - loss: 2.9437e-04 - mean_squared_error: 2.9437e-04 - mean_absolute_error: 0.0126 - val_loss: 5.5415e-04 - val_mean_squared_error: 5.5415e-04 - val_mean_absolute_error: 0.0182\n",
      "Epoch 16/100\n",
      " - 3s - loss: 3.0308e-04 - mean_squared_error: 3.0308e-04 - mean_absolute_error: 0.0128 - val_loss: 3.8640e-04 - val_mean_squared_error: 3.8640e-04 - val_mean_absolute_error: 0.0144\n",
      "Epoch 17/100\n",
      " - 2s - loss: 2.9122e-04 - mean_squared_error: 2.9122e-04 - mean_absolute_error: 0.0125 - val_loss: 6.7289e-04 - val_mean_squared_error: 6.7289e-04 - val_mean_absolute_error: 0.0202\n",
      "Epoch 18/100\n",
      " - 2s - loss: 2.8751e-04 - mean_squared_error: 2.8751e-04 - mean_absolute_error: 0.0124 - val_loss: 4.0245e-04 - val_mean_squared_error: 4.0245e-04 - val_mean_absolute_error: 0.0149\n",
      "Epoch 00018: early stopping\n"
     ]
    }
   ],
   "source": [
    "def create_model_nstep(train_X, train_Y, window_size = 1, nstep = 1):\n",
    "    vanilla_rnn = Sequential()\n",
    "    vanilla_rnn.add(LSTM(200, input_shape = (1, window_size), return_sequences=True))\n",
    "    vanilla_rnn.add(Dropout(rate = 0.2))\n",
    "    vanilla_rnn.add(LSTM(20, input_shape = (1, window_size)))\n",
    "    vanilla_rnn.add(Dense(nstep))\n",
    "    vanilla_rnn.compile(loss = \"mean_squared_error\", \n",
    "                  optimizer = \"adam\", metrics = ['mse', 'mae'])\n",
    "    return(vanilla_rnn)\n",
    "\n",
    "window_size = 100\n",
    "nstep = 1\n",
    "train_X, train_Y = create_dataset_nstep(train_multi, window_size, nstep)\n",
    "test_X, test_Y = create_dataset_nstep(test_multi, window_size, nstep)\n",
    "train_X = np.reshape(train_X, (train_X.shape[0], 1, train_X.shape[1]))\n",
    "test_X = np.reshape(test_X, (test_X.shape[0], 1, test_X.shape[1]))\n",
    "\n",
    "vanilla_rnn = create_model_nstep(train_X, train_Y, window_size, nstep)\n",
    "SVG(model_to_dot(vanilla_rnn, show_shapes=True).create(prog='dot', format='svg'))\n",
    "es = callbacks.EarlyStopping(monitor='val_loss', patience=5, verbose=1)\n",
    "history = vanilla_rnn.fit(train_X, train_Y, epochs = 100, batch_size = 32, verbose = 2, validation_split=0.15, \n",
    "                          callbacks=[es])"
   ]
  },
  {
   "cell_type": "code",
   "execution_count": 52,
   "metadata": {},
   "outputs": [
    {
     "name": "stdout",
     "output_type": "stream",
     "text": [
      "Training data error: 678.11 MSE\n",
      "Test data error: 723.86 MSE\n",
      "Training data error: 22.44 MAE\n",
      "Test data error: 23.14 MAE\n"
     ]
    }
   ],
   "source": [
    "def get_predict_and_score_multi(model, X, Y):\n",
    "    # transform the prediction to the original scale\n",
    "    pred = normalizer.inverse_transform(model.predict(X))\n",
    "    # transform also the label to the original scale for interpretability\n",
    "    orig_data =normalizer.inverse_transform(Y)\n",
    "    # calculate RMSE\n",
    "    score = math.sqrt(mean_squared_error(orig_data, pred))\n",
    "    score2 = math.sqrt(mean_absolute_error(orig_data, pred))\n",
    "    return(score, score2, pred)\n",
    "\n",
    "mse_train, mae_train, train_predict = get_predict_and_score_multi(vanilla_rnn, train_X, train_Y)\n",
    "mse_test, mae_test, test_predict = get_predict_and_score_multi(vanilla_rnn, test_X, test_Y)\n",
    "print(\"Training data error: %.2f MSE\" % mse_train)\n",
    "print(\"Test data error: %.2f MSE\" % mse_test)\n",
    "print(\"Training data error: %.2f MAE\" % mae_train)\n",
    "print(\"Test data error: %.2f MAE\" % mae_test)"
   ]
  },
  {
   "cell_type": "code",
   "execution_count": 39,
   "metadata": {},
   "outputs": [
    {
     "name": "stdout",
     "output_type": "stream",
     "text": [
      "Training data error: 607.50 MSE\n",
      "Test data error: 659.49 MSE\n",
      "Training data error: 21.00 MAE\n",
      "Test data error: 21.93 MAE\n"
     ]
    }
   ],
   "source": [
    "def get_predict_and_score_multi(model, X, Y):\n",
    "    # transform the prediction to the original scale\n",
    "    pred = normalizer.inverse_transform(model.predict(X))\n",
    "    # transform also the label to the original scale for interpretability\n",
    "    orig_data =normalizer.inverse_transform(Y)\n",
    "    # calculate RMSE\n",
    "    score = math.sqrt(mean_squared_error(orig_data, pred))\n",
    "    score2 = math.sqrt(mean_absolute_error(orig_data, pred))\n",
    "    return(score, score2, pred)\n",
    "\n",
    "mse_train, mae_train, train_predict = get_predict_and_score_multi(vanilla_rnn, train_X, train_Y)\n",
    "mse_test, mae_test, test_predict = get_predict_and_score_multi(vanilla_rnn, test_X, test_Y)\n",
    "print(\"Training data error: %.2f MSE\" % mse_train)\n",
    "print(\"Test data error: %.2f MSE\" % mse_test)\n",
    "print(\"Training data error: %.2f MAE\" % mae_train)\n",
    "print(\"Test data error: %.2f MAE\" % mae_test)"
   ]
  },
  {
   "cell_type": "code",
   "execution_count": 21,
   "metadata": {},
   "outputs": [],
   "source": [
    "vanilla_rnn.save('lstm_1h_window100.h5') "
   ]
  },
  {
   "cell_type": "code",
   "execution_count": 22,
   "metadata": {},
   "outputs": [],
   "source": [
    "\n",
    "\n",
    "vanilla_rnn = load_model('lstm_1h_window100.h5')"
   ]
  }
 ],
 "metadata": {
  "kernelspec": {
   "display_name": "Python 3",
   "language": "python",
   "name": "python3"
  },
  "language_info": {
   "codemirror_mode": {
    "name": "ipython",
    "version": 3
   },
   "file_extension": ".py",
   "mimetype": "text/x-python",
   "name": "python",
   "nbconvert_exporter": "python",
   "pygments_lexer": "ipython3",
   "version": "3.7.3"
  },
  "toc": {
   "base_numbering": 1,
   "nav_menu": {},
   "number_sections": true,
   "sideBar": true,
   "skip_h1_title": false,
   "title_cell": "Table of Contents",
   "title_sidebar": "Contents",
   "toc_cell": false,
   "toc_position": {},
   "toc_section_display": true,
   "toc_window_display": false
  },
  "varInspector": {
   "cols": {
    "lenName": 16,
    "lenType": 16,
    "lenVar": 40
   },
   "kernels_config": {
    "python": {
     "delete_cmd_postfix": "",
     "delete_cmd_prefix": "del ",
     "library": "var_list.py",
     "varRefreshCmd": "print(var_dic_list())"
    },
    "r": {
     "delete_cmd_postfix": ") ",
     "delete_cmd_prefix": "rm(",
     "library": "var_list.r",
     "varRefreshCmd": "cat(var_dic_list()) "
    }
   },
   "types_to_exclude": [
    "module",
    "function",
    "builtin_function_or_method",
    "instance",
    "_Feature"
   ],
   "window_display": false
  }
 },
 "nbformat": 4,
 "nbformat_minor": 2
}
